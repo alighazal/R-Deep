{
  "nbformat": 4,
  "nbformat_minor": 0,
  "metadata": {
    "colab": {
      "name": "R-Deep -- Final Milestone.ipynb",
      "provenance": [],
      "collapsed_sections": [],
      "mount_file_id": "1hYybXmQjnrh_g5gpIzDtK2Ye9BECuI3x",
      "authorship_tag": "ABX9TyOBkEhrY5hr+41ro9BLbed0",
      "include_colab_link": true
    },
    "kernelspec": {
      "name": "python3",
      "display_name": "Python 3"
    },
    "language_info": {
      "name": "python"
    },
    "accelerator": "GPU"
  },
  "cells": [
    {
      "cell_type": "markdown",
      "metadata": {
        "id": "view-in-github",
        "colab_type": "text"
      },
      "source": [
        "<a href=\"https://colab.research.google.com/github/alighazal/R-Deep/blob/main/R_Deep_Final_Milestone.ipynb\" target=\"_parent\"><img src=\"https://colab.research.google.com/assets/colab-badge.svg\" alt=\"Open In Colab\"/></a>"
      ]
    },
    {
      "cell_type": "markdown",
      "metadata": {
        "id": "0qjh4PfJvLzb"
      },
      "source": [
        "# R-Deep\n",
        "An indoor localiztion systems based on wifi singals that uses deep learning techniques. this system proved to be robust against changes in the envrioment, and can be used to localize both android and apple phones. that is, it can predict the location using either a vector of RSS readings from the enviroment or One Access Point (as is the case with iphones)."
      ]
    },
    {
      "cell_type": "markdown",
      "metadata": {
        "id": "tysI5XOPqo0M"
      },
      "source": [
        "## Dependencies"
      ]
    },
    {
      "cell_type": "code",
      "metadata": {
        "id": "gwY99Ua7lZkj"
      },
      "source": [
        "from sklearn.model_selection import train_test_split\n",
        "from sklearn.neighbors import KNeighborsRegressor\n",
        "from sklearn.preprocessing import MinMaxScaler\n",
        "from sklearn.preprocessing import Normalizer\n",
        "import matplotlib.pyplot as plt\n",
        "import seaborn as sns\n",
        "import pandas as pd\n",
        "import numpy as np\n",
        "import random\n"
      ],
      "execution_count": null,
      "outputs": []
    },
    {
      "cell_type": "code",
      "metadata": {
        "colab": {
          "base_uri": "https://localhost:8080/"
        },
        "id": "IGRS7QhGmgyx",
        "outputId": "8d999f77-39c9-4838-c94b-5b5448888a4c"
      },
      "source": [
        "import tensorflow as tf\n",
        "\n",
        "from tensorflow import keras\n",
        "from tensorflow.keras import layers\n",
        "from tensorflow.keras.layers.experimental import preprocessing\n",
        "\n",
        "from keras.layers import Input, Dense, Dropout, LSTM, SimpleRNN, GRU\n",
        "from keras.models import Model, Sequential\n",
        "\n",
        "print(tf.__version__)"
      ],
      "execution_count": null,
      "outputs": [
        {
          "output_type": "stream",
          "text": [
            "2.4.1\n"
          ],
          "name": "stdout"
        }
      ]
    },
    {
      "cell_type": "code",
      "metadata": {
        "id": "hRupDolxmaNL"
      },
      "source": [
        "# Make numpy printouts easier to read.\n",
        "np.set_printoptions(precision=5, suppress=True)"
      ],
      "execution_count": null,
      "outputs": []
    },
    {
      "cell_type": "markdown",
      "metadata": {
        "id": "pB8jTgwiqu8D"
      },
      "source": [
        "## Uploading data and unziping files"
      ]
    },
    {
      "cell_type": "markdown",
      "metadata": {
        "id": "LQqNVzEXq1Bk"
      },
      "source": [
        "[Dataset link](https://www.kaggle.com/hiro5299834/indoor-navigation-and-location-wifi-features)"
      ]
    },
    {
      "cell_type": "code",
      "metadata": {
        "colab": {
          "base_uri": "https://localhost:8080/"
        },
        "id": "CVn9_HKXoxwQ",
        "outputId": "fcbeab5a-8ae5-4119-b210-f7c1677bb5cf"
      },
      "source": [
        "from google.colab import drive\n",
        "drive.mount('/drive')"
      ],
      "execution_count": null,
      "outputs": [
        {
          "output_type": "stream",
          "text": [
            "Mounted at /drive\n"
          ],
          "name": "stdout"
        }
      ]
    },
    {
      "cell_type": "markdown",
      "metadata": {
        "id": "Gh1V080D7End"
      },
      "source": [
        "### first time only when you are loading the drive"
      ]
    },
    {
      "cell_type": "code",
      "metadata": {
        "id": "FbgZGV9uodYo"
      },
      "source": [
        "!mkdir \"/drive/MyDrive/location datasets/wifi_features\""
      ],
      "execution_count": null,
      "outputs": []
    },
    {
      "cell_type": "code",
      "metadata": {
        "id": "PoxXYaFKmjQo"
      },
      "source": [
        "!unzip \"./MyDrive/location datasets/archive.zip\" -d  \"/drive/MyDrive/location datasets/wifi_features\""
      ],
      "execution_count": null,
      "outputs": []
    },
    {
      "cell_type": "markdown",
      "metadata": {
        "id": "_0OF3iJBrc-Y"
      },
      "source": [
        "## importing data"
      ]
    },
    {
      "cell_type": "code",
      "metadata": {
        "id": "dkI9oSiJo-kT"
      },
      "source": [
        "ds =  pd.read_csv(\"/drive/MyDrive/location datasets/wifi_features/wifi_features/train/5d27075f03f801723c2e360f_1000_train.csv\")"
      ],
      "execution_count": null,
      "outputs": []
    },
    {
      "cell_type": "code",
      "metadata": {
        "id": "V_znk_Qhr6Er"
      },
      "source": [
        "ds"
      ],
      "execution_count": null,
      "outputs": []
    },
    {
      "cell_type": "code",
      "metadata": {
        "id": "MFHsga2MtTGc"
      },
      "source": [
        "## removing meaningless column\n",
        "ds.drop([\"Unnamed: 0\"], axis=1, inplace=True)"
      ],
      "execution_count": null,
      "outputs": []
    },
    {
      "cell_type": "code",
      "metadata": {
        "id": "sMSC8Gnzsent"
      },
      "source": [
        "ds[['x','y','f']].describe()"
      ],
      "execution_count": null,
      "outputs": []
    },
    {
      "cell_type": "code",
      "metadata": {
        "id": "fThKgTXsssTt"
      },
      "source": [
        "ds[['x','y','f']].hist()"
      ],
      "execution_count": null,
      "outputs": []
    },
    {
      "cell_type": "code",
      "metadata": {
        "id": "ya1vQVR5w-P3"
      },
      "source": [
        "plt.figure(figsize=(8, 6), dpi=100)\n",
        "plt.scatter(ds['x'], ds['y'])\n",
        "plt.show()"
      ],
      "execution_count": null,
      "outputs": []
    },
    {
      "cell_type": "code",
      "metadata": {
        "id": "c1lCrHVzs4C_"
      },
      "source": [
        "## here for sake of simplicity i decided to work with one floor (floor zero (0))\n",
        "ds_f0 = ds[ds['f'] == 0]"
      ],
      "execution_count": null,
      "outputs": []
    },
    {
      "cell_type": "code",
      "metadata": {
        "id": "PCCYwX_stOw8"
      },
      "source": [
        "features = ds_f0.drop(['x','y','f','path'], axis=1)"
      ],
      "execution_count": null,
      "outputs": []
    },
    {
      "cell_type": "code",
      "metadata": {
        "id": "GgHz0CUZt_86"
      },
      "source": [
        "labels = ds_f0[['x','y']]"
      ],
      "execution_count": null,
      "outputs": []
    },
    {
      "cell_type": "markdown",
      "metadata": {
        "id": "kzHk2JmcuShV"
      },
      "source": [
        "## Normalizing the data using sklean"
      ]
    },
    {
      "cell_type": "markdown",
      "metadata": {
        "id": "s8bUxCB8Pz4o"
      },
      "source": [
        "> only use one of the following scaling methods. after experimentation, min-max produced better results."
      ]
    },
    {
      "cell_type": "code",
      "metadata": {
        "id": "C0VGDAJjuH2K"
      },
      "source": [
        "#option 1\n",
        "scaler = MinMaxScaler()\n",
        "features = scaler.fit_transform(features)"
      ],
      "execution_count": null,
      "outputs": []
    },
    {
      "cell_type": "code",
      "metadata": {
        "id": "MaEBzTRQQJNt"
      },
      "source": [
        "#option 2\n",
        "normalizer = Normalizer()\n",
        "features = normalizer.fit_transform(features)"
      ],
      "execution_count": null,
      "outputs": []
    },
    {
      "cell_type": "code",
      "metadata": {
        "colab": {
          "base_uri": "https://localhost:8080/"
        },
        "id": "ZJ746q2nuoT-",
        "outputId": "ac04424c-7c40-4c64-fd29-788034a0b113"
      },
      "source": [
        "features"
      ],
      "execution_count": null,
      "outputs": [
        {
          "output_type": "execute_result",
          "data": {
            "text/plain": [
              "array([[0.     , 0.     , 0.     , ..., 0.     , 0.     , 0.9589 ],\n",
              "       [0.     , 0.     , 0.     , ..., 0.     , 0.     , 0.9589 ],\n",
              "       [0.     , 0.     , 0.     , ..., 0.     , 0.     , 0.9589 ],\n",
              "       ...,\n",
              "       [0.     , 0.99466, 0.     , ..., 0.     , 0.     , 0.97576],\n",
              "       [0.     , 0.     , 0.     , ..., 0.     , 0.     , 0.97787],\n",
              "       [0.     , 0.98292, 0.     , ..., 0.     , 0.     , 0.97682]])"
            ]
          },
          "metadata": {
            "tags": []
          },
          "execution_count": 15
        }
      ]
    },
    {
      "cell_type": "code",
      "metadata": {
        "colab": {
          "base_uri": "https://localhost:8080/"
        },
        "id": "J1yMptQGuuNP",
        "outputId": "68c6de3e-772d-43fd-89ca-2aaa3fca9421"
      },
      "source": [
        "features.shape"
      ],
      "execution_count": null,
      "outputs": [
        {
          "output_type": "execute_result",
          "data": {
            "text/plain": [
              "(6549, 1805)"
            ]
          },
          "metadata": {
            "tags": []
          },
          "execution_count": 16
        }
      ]
    },
    {
      "cell_type": "markdown",
      "metadata": {
        "id": "5Tc5CGYyvGdi"
      },
      "source": [
        "## splitting the data 60% train 40% validation"
      ]
    },
    {
      "cell_type": "code",
      "metadata": {
        "id": "Zo0QAZ1uu5IF"
      },
      "source": [
        "X_train, X_test, y_train, y_test = train_test_split(features, labels, test_size=0.4, random_state=42, shuffle=True)"
      ],
      "execution_count": null,
      "outputs": []
    },
    {
      "cell_type": "markdown",
      "metadata": {
        "id": "oT39zqQC7ATW"
      },
      "source": [
        "## utility functions"
      ]
    },
    {
      "cell_type": "code",
      "metadata": {
        "id": "U3ZI5oZc7C4f"
      },
      "source": [
        "def plot_loss(history):\n",
        "  plt.plot(history.history['loss'], label='loss')\n",
        "  plt.plot(history.history['val_loss'], label='val_loss')\n",
        "  plt.xlabel('Epoch')\n",
        "  plt.ylabel('Error')\n",
        "  plt.legend()\n",
        "  plt.grid(True)\n"
      ],
      "execution_count": null,
      "outputs": []
    },
    {
      "cell_type": "code",
      "metadata": {
        "id": "614DdXGSA8Sn"
      },
      "source": [
        "earlystopping = keras.callbacks.EarlyStopping(monitor =\"val_loss\", \n",
        "                                        mode =\"min\", patience = 10, \n",
        "                                        restore_best_weights = True)"
      ],
      "execution_count": null,
      "outputs": []
    },
    {
      "cell_type": "code",
      "metadata": {
        "id": "gh38Oat5DRgQ"
      },
      "source": [
        "def draw_cdf(array_of_predicted_true_readings, title, max_x = 50):\n",
        "  errors_of_models = []\n",
        "  for readings_model in array_of_predicted_true_readings:\n",
        "    errors_of_models.append(calc_error(np.array(readings_model[0]), np.array(readings_model[1])))\n",
        "  \n",
        "  legends = []\n",
        "  for readings_model in array_of_predicted_true_readings:\n",
        "    legends.append(readings_model[2])\n",
        "\n",
        "  cumulatives = []\n",
        "  bases = []\n",
        "  for error_of_model in errors_of_models:\n",
        "    values, base = np.histogram(error_of_model,50)\n",
        "    values_prob = values / sum(values)\n",
        "    bases.append(base)\n",
        "    cumulatives.append(np.cumsum(values_prob))\n",
        "\n",
        "  plt.figure(figsize=(8, 6), dpi=80)\n",
        "\n",
        "  for i, cumulative in enumerate(cumulatives):\n",
        "    plt.plot(bases[i][:-1], cumulative) \n",
        "\n",
        "  plt.title(title)\n",
        "  plt.xlim((0, max_x))\n",
        "  plt.xlabel('distance (meter)')\n",
        "  plt.ylabel('probability')\n",
        "  plt.legend(legends)\n",
        "  plt.show()"
      ],
      "execution_count": null,
      "outputs": []
    },
    {
      "cell_type": "markdown",
      "metadata": {
        "id": "uNzBP7hHtJvP"
      },
      "source": [
        "### drawing error"
      ]
    },
    {
      "cell_type": "code",
      "metadata": {
        "id": "nkde5eT9tJcl"
      },
      "source": [
        "# error function\n",
        "def euclidean_distance(p, q):\n",
        "    dist = 0.0\n",
        "    # your code for euclidean distance calculation is here\n",
        "    squared_sum = 0\n",
        "    for i in range(len(p)):\n",
        "        squared_sum += (p[i] - q[i])**2\n",
        "    \n",
        "    dist = (squared_sum)**(1/2)\n",
        "    return dist"
      ],
      "execution_count": null,
      "outputs": []
    },
    {
      "cell_type": "code",
      "metadata": {
        "id": "UMj2ji5etN8X"
      },
      "source": [
        "# calculate the error\n",
        "def calc_error (predicted_locs, test_locs):\n",
        "  error = []\n",
        "  for index, location in enumerate (predicted_locs):\n",
        "    error.append(euclidean_distance(location, test_locs[index]))\n",
        "  return (error)"
      ],
      "execution_count": null,
      "outputs": []
    },
    {
      "cell_type": "markdown",
      "metadata": {
        "id": "-1HTEGcpr4rr"
      },
      "source": [
        "### leaving only max AP"
      ]
    },
    {
      "cell_type": "code",
      "metadata": {
        "id": "twc6x7T0K_xA"
      },
      "source": [
        "def leave_only_max_reading(ds):\n",
        "  num_aps = len(ds[0])\n",
        "  rss_max_ap = []\n",
        "  for rss_point in np.array(ds):\n",
        "    new_rss_point = np.zeros(num_aps)\n",
        "    new_rss_point[np.argmax(rss_point)] = np.max(rss_point)\n",
        "    rss_max_ap.append (new_rss_point)\n",
        "\n",
        "  return np.array(rss_max_ap)"
      ],
      "execution_count": null,
      "outputs": []
    },
    {
      "cell_type": "markdown",
      "metadata": {
        "id": "gbEjN_DrVI_t"
      },
      "source": [
        "### tower dropping"
      ]
    },
    {
      "cell_type": "code",
      "metadata": {
        "id": "OoUiIvJOuvyB"
      },
      "source": [
        "def apply_tower_dropping_noise(data, drop_ratio = .1):\n",
        "  tower_dropped_data = []\n",
        "  for row in data:\n",
        "    non_zeros_index = np.where( row > 0 )\n",
        "    num_droped_points = round (drop_ratio * len(non_zeros_index[0]))\n",
        "    index_dropped_points = random.sample(list(non_zeros_index[0]), num_droped_points)\n",
        "    new_row =  row.copy()\n",
        "    for index in index_dropped_points:\n",
        "      new_row[index] = 0\n",
        "    tower_dropped_data.append(new_row)\n",
        "  return np.array(tower_dropped_data)"
      ],
      "execution_count": null,
      "outputs": []
    },
    {
      "cell_type": "markdown",
      "metadata": {
        "id": "QEYWvxPeVTfK"
      },
      "source": [
        "### adding white noise"
      ]
    },
    {
      "cell_type": "code",
      "metadata": {
        "id": "jok9nOpEUiLN"
      },
      "source": [
        "def add_white_noise(data, noise_ratio = 0.1):\n",
        "  noisy_data = []\n",
        "  for row in data:\n",
        "    non_zeros_index = np.where( row > 0 )\n",
        "    new_row =  row.copy()\n",
        "    for i, index in enumerate (non_zeros_index):\n",
        "      new_row[index] = row[index] + np.random.rand() * noise_ratio  * -1**i\n",
        "    noisy_data.append(new_row)\n",
        "  return np.array(noisy_data)"
      ],
      "execution_count": null,
      "outputs": []
    },
    {
      "cell_type": "markdown",
      "metadata": {
        "id": "zV4l_YYCvkYr"
      },
      "source": [
        "## Building the model"
      ]
    },
    {
      "cell_type": "markdown",
      "metadata": {
        "id": "0g0NrBlHZ13s"
      },
      "source": [
        "### deep dense layers with different architctures:"
      ]
    },
    {
      "cell_type": "code",
      "metadata": {
        "id": "RYnyQbz_vbvL"
      },
      "source": [
        "def baseline_model(dim):\n",
        "\t# create model\n",
        "\tmodel = keras.Sequential()\n",
        "\tmodel.add(keras.layers.Dense(300, input_dim=dim, kernel_initializer='normal', activation='tanh'))\n",
        "\tmodel.add(keras.layers.Dense(300, input_dim=dim, kernel_initializer='normal', activation='tanh'))\n",
        "\tmodel.add(keras.layers.Dense(300, input_dim=dim, kernel_initializer='normal', activation='tanh'))\n",
        "\tmodel.add(keras.layers.Dense(2, kernel_initializer='normal'))\n",
        "\t# Compile model\n",
        "\tmodel.compile( loss = 'mse', metrics='mean_absolute_error',\n",
        "                optimizer=tf.keras.optimizers.Adam(0.001))\n",
        "\treturn model"
      ],
      "execution_count": null,
      "outputs": []
    },
    {
      "cell_type": "code",
      "metadata": {
        "id": "VNU0N-hc5dTF"
      },
      "source": [
        "[rows, cols] = X_train.shape"
      ],
      "execution_count": null,
      "outputs": []
    },
    {
      "cell_type": "code",
      "metadata": {
        "id": "O9VKzuf246XB"
      },
      "source": [
        "dnn = baseline_model(cols)"
      ],
      "execution_count": null,
      "outputs": []
    },
    {
      "cell_type": "code",
      "metadata": {
        "colab": {
          "base_uri": "https://localhost:8080/"
        },
        "id": "psZt-Mse5eRa",
        "outputId": "06214a81-333b-4955-c1bb-26d5298991f6"
      },
      "source": [
        "dnn.summary()"
      ],
      "execution_count": null,
      "outputs": [
        {
          "output_type": "stream",
          "text": [
            "Model: \"sequential\"\n",
            "_________________________________________________________________\n",
            "Layer (type)                 Output Shape              Param #   \n",
            "=================================================================\n",
            "dense (Dense)                (None, 300)               541800    \n",
            "_________________________________________________________________\n",
            "dense_1 (Dense)              (None, 300)               90300     \n",
            "_________________________________________________________________\n",
            "dense_2 (Dense)              (None, 300)               90300     \n",
            "_________________________________________________________________\n",
            "dense_3 (Dense)              (None, 2)                 602       \n",
            "=================================================================\n",
            "Total params: 723,002\n",
            "Trainable params: 723,002\n",
            "Non-trainable params: 0\n",
            "_________________________________________________________________\n"
          ],
          "name": "stdout"
        }
      ]
    },
    {
      "cell_type": "code",
      "metadata": {
        "id": "ZETz4kz354qR"
      },
      "source": [
        "history = dnn.fit(\n",
        "    X_train, y_train,\n",
        "    validation_split=0.2,\n",
        "    verbose=2, epochs=200,\n",
        "    callbacks =[earlystopping]\n",
        "    )"
      ],
      "execution_count": null,
      "outputs": []
    },
    {
      "cell_type": "code",
      "metadata": {
        "id": "yE8QtKh36bA7"
      },
      "source": [
        "plot_loss(history)"
      ],
      "execution_count": null,
      "outputs": []
    },
    {
      "cell_type": "code",
      "metadata": {
        "id": "5V0gtt0X66dX"
      },
      "source": [
        "test_results = dnn.evaluate(\n",
        "    X_test,\n",
        "    y_test, verbose=0)"
      ],
      "execution_count": null,
      "outputs": []
    },
    {
      "cell_type": "code",
      "metadata": {
        "id": "1NmtiVwwipyi"
      },
      "source": [
        "predicted_dnn = dnn.predict(X_test)"
      ],
      "execution_count": null,
      "outputs": []
    },
    {
      "cell_type": "code",
      "metadata": {
        "colab": {
          "base_uri": "https://localhost:8080/"
        },
        "id": "-w0ySgsE8Cj-",
        "outputId": "1f890bc5-1b9c-45e9-839f-7c8c952fcc4d"
      },
      "source": [
        "test_results"
      ],
      "execution_count": null,
      "outputs": [
        {
          "output_type": "execute_result",
          "data": {
            "text/plain": [
              "[19.097383499145508, 2.948732614517212]"
            ]
          },
          "metadata": {
            "tags": []
          },
          "execution_count": 28
        }
      ]
    },
    {
      "cell_type": "markdown",
      "metadata": {
        "id": "mzvnfHuFZ6fb"
      },
      "source": [
        "## Experimenting with autoencoders:"
      ]
    },
    {
      "cell_type": "markdown",
      "metadata": {
        "id": "4_Qz_oO2byAb"
      },
      "source": [
        "https://towardsdatascience.com/autoencoders-bits-and-bytes-of-deep-learning-eaba376f23ad"
      ]
    },
    {
      "cell_type": "code",
      "metadata": {
        "id": "S0zW2asvZiL4"
      },
      "source": [
        "encoding_dim = 32\n",
        "\n",
        "input_vec = Input(shape=(cols,))\n",
        "\n",
        "encoded = Dense(512, kernel_initializer='normal', activation='relu')(input_vec)\n",
        "encoded = Dense(256, kernel_initializer='normal',  activation='relu')(encoded)\n",
        "\n",
        "encoded = Dense(128, kernel_initializer='normal',  activation='relu')(encoded)\n",
        "\n",
        "decoded = Dense(256, kernel_initializer='normal', activation='relu')(encoded)\n",
        "decoded = Dense(512, kernel_initializer='normal',  activation='relu')(decoded)\n",
        "\n",
        "decoded = Dense(cols, activation='relu')(decoded)\n",
        "\n",
        "\n",
        "autoencoder = Model(input_vec, decoded)\n",
        "\n",
        "encoder = Model(input_vec, encoded)\n",
        "\n",
        "autoencoder.compile(optimizer='adam', metrics= ['mean_absolute_error'], loss='mse')\n"
      ],
      "execution_count": null,
      "outputs": []
    },
    {
      "cell_type": "code",
      "metadata": {
        "id": "FjtFxTvVHi-E"
      },
      "source": [
        "autoencoder.summary()"
      ],
      "execution_count": null,
      "outputs": []
    },
    {
      "cell_type": "code",
      "metadata": {
        "id": "ItoB1Pwe-0nn"
      },
      "source": [
        "history_autoencoder = autoencoder.fit(\n",
        "                            X_train, X_train,\n",
        "                            validation_split=0.2,\n",
        "                            verbose=2, epochs=150,\n",
        "                            )"
      ],
      "execution_count": null,
      "outputs": []
    },
    {
      "cell_type": "code",
      "metadata": {
        "id": "FmnY2PWA-0ay"
      },
      "source": [
        "plot_loss(history_autoencoder)"
      ],
      "execution_count": null,
      "outputs": []
    },
    {
      "cell_type": "code",
      "metadata": {
        "id": "f8tPm--R-0YS"
      },
      "source": [
        "test_resutls_ae = autoencoder.evaluate( X_test,\n",
        "    X_test, verbose=0)"
      ],
      "execution_count": null,
      "outputs": []
    },
    {
      "cell_type": "code",
      "metadata": {
        "colab": {
          "base_uri": "https://localhost:8080/"
        },
        "id": "f1McibNeA4Uc",
        "outputId": "e6803282-e783-4e0f-dee7-fdc64ef39de9"
      },
      "source": [
        "test_resutls_ae"
      ],
      "execution_count": null,
      "outputs": [
        {
          "output_type": "execute_result",
          "data": {
            "text/plain": [
              "[0.013285561464726925, 0.02419554442167282]"
            ]
          },
          "metadata": {
            "tags": []
          },
          "execution_count": 71
        }
      ]
    },
    {
      "cell_type": "code",
      "metadata": {
        "id": "W9b63QcnCQav"
      },
      "source": [
        "X_train_encoded = encoder.predict(X_train)\n",
        "X_test_encoded = encoder.predict(X_test)"
      ],
      "execution_count": null,
      "outputs": []
    },
    {
      "cell_type": "markdown",
      "metadata": {
        "id": "QsrqJq8uC3kk"
      },
      "source": [
        "### model to train the encoded input"
      ]
    },
    {
      "cell_type": "code",
      "metadata": {
        "id": "0rwle8LVCkOz"
      },
      "source": [
        "dnn_ae = baseline_model(128)"
      ],
      "execution_count": null,
      "outputs": []
    },
    {
      "cell_type": "code",
      "metadata": {
        "colab": {
          "base_uri": "https://localhost:8080/"
        },
        "id": "TLk-WsSpDZ_k",
        "outputId": "8a558f29-a5ec-4de1-f9b6-ba5e37848b40"
      },
      "source": [
        "dnn_ae.summary()"
      ],
      "execution_count": null,
      "outputs": [
        {
          "output_type": "stream",
          "text": [
            "Model: \"sequential_10\"\n",
            "_________________________________________________________________\n",
            "Layer (type)                 Output Shape              Param #   \n",
            "=================================================================\n",
            "dense_45 (Dense)             (None, 300)               38700     \n",
            "_________________________________________________________________\n",
            "dense_46 (Dense)             (None, 300)               90300     \n",
            "_________________________________________________________________\n",
            "dense_47 (Dense)             (None, 300)               90300     \n",
            "_________________________________________________________________\n",
            "dense_48 (Dense)             (None, 2)                 602       \n",
            "=================================================================\n",
            "Total params: 219,902\n",
            "Trainable params: 219,902\n",
            "Non-trainable params: 0\n",
            "_________________________________________________________________\n"
          ],
          "name": "stdout"
        }
      ]
    },
    {
      "cell_type": "code",
      "metadata": {
        "id": "W8fGDpq1DaCY"
      },
      "source": [
        "history_dnn_ae = dnn_ae.fit(\n",
        "                      X_train_encoded, y_train,\n",
        "                      validation_split=0.2,\n",
        "                      verbose=1, epochs=200\n",
        "                  )"
      ],
      "execution_count": null,
      "outputs": []
    },
    {
      "cell_type": "code",
      "metadata": {
        "id": "uqL71DiHKN_4"
      },
      "source": [
        "plot_loss(history_dnn_ae)"
      ],
      "execution_count": null,
      "outputs": []
    },
    {
      "cell_type": "code",
      "metadata": {
        "colab": {
          "base_uri": "https://localhost:8080/"
        },
        "id": "fNul8WHTD71N",
        "outputId": "bce4c25c-b9a8-42cf-df3f-df86d6bdb24a"
      },
      "source": [
        "dnn_ae.evaluate(X_test_encoded, y_test)"
      ],
      "execution_count": null,
      "outputs": [
        {
          "output_type": "stream",
          "text": [
            "82/82 [==============================] - 0s 2ms/step - loss: 18.8085 - mean_absolute_error: 2.7619\n"
          ],
          "name": "stdout"
        },
        {
          "output_type": "execute_result",
          "data": {
            "text/plain": [
              "[18.80852699279785, 2.761897563934326]"
            ]
          },
          "metadata": {
            "tags": []
          },
          "execution_count": 180
        }
      ]
    },
    {
      "cell_type": "code",
      "metadata": {
        "id": "XRtQ7HPokfHm"
      },
      "source": [
        "predicted_dnn_ae = dnn_ae.predict(X_test_encoded)"
      ],
      "execution_count": null,
      "outputs": []
    },
    {
      "cell_type": "markdown",
      "metadata": {
        "id": "KK5sidrmsJ3T"
      },
      "source": [
        "### Testing on Noisy Data"
      ]
    },
    {
      "cell_type": "code",
      "metadata": {
        "id": "wZvZur54WwQH"
      },
      "source": [
        "dnn_ae.evaluate(encoder.predict(apply_tower_dropping_noise(X_test, 0.5)), y_test)"
      ],
      "execution_count": null,
      "outputs": []
    },
    {
      "cell_type": "code",
      "metadata": {
        "id": "GebMq73-WwTR"
      },
      "source": [
        "dnn_ae.evaluate(encoder.predict(add_white_noise(X_test, 0.5)), y_test)"
      ],
      "execution_count": null,
      "outputs": []
    },
    {
      "cell_type": "markdown",
      "metadata": {
        "id": "iWTTwU3zwovU"
      },
      "source": [
        "## Miscellaneous"
      ]
    },
    {
      "cell_type": "code",
      "metadata": {
        "id": "hhDRlCUUdYeR"
      },
      "source": [
        "X_train_with_white_noise = add_white_noise(X_train, .1)"
      ],
      "execution_count": null,
      "outputs": []
    },
    {
      "cell_type": "code",
      "metadata": {
        "id": "fwf8ZDD5DsOZ"
      },
      "source": [
        "X_train_with_tower_dropping = apply_tower_dropping_noise(X_train, .5)"
      ],
      "execution_count": null,
      "outputs": []
    },
    {
      "cell_type": "code",
      "metadata": {
        "id": "iyrLd4TK3YWl"
      },
      "source": [
        "X_train_with_white_noise = np.concatenate((X_train_with_white_noise , X_train), axis=0)\n",
        "X_train_with_tower_dropping = np.concatenate(( X_train_with_tower_dropping , X_train), axis=0)"
      ],
      "execution_count": null,
      "outputs": []
    },
    {
      "cell_type": "code",
      "metadata": {
        "id": "G0Ph7JCkSnuM"
      },
      "source": [
        "y_train_with_tower_dropping = np.concatenate(( np.array(y_train), np.array(y_train), np.array(y_train)), axis=0)\n",
        "y_train_with_white_noise = np.concatenate(( np.array(y_train), np.array(y_train), np.array(y_train)), axis=0)"
      ],
      "execution_count": null,
      "outputs": []
    },
    {
      "cell_type": "markdown",
      "metadata": {
        "id": "lUYXR9srxRCi"
      },
      "source": [
        "## Gridding"
      ]
    },
    {
      "cell_type": "code",
      "metadata": {
        "id": "Q2GOo0bVOiZO"
      },
      "source": [
        "labels = ds_f0[['x','y']]"
      ],
      "execution_count": null,
      "outputs": []
    },
    {
      "cell_type": "code",
      "metadata": {
        "id": "K1kfi_rqMEpI"
      },
      "source": [
        "GRID_SIZE = 1"
      ],
      "execution_count": null,
      "outputs": []
    },
    {
      "cell_type": "code",
      "metadata": {
        "id": "0oPC5n3FZxiN"
      },
      "source": [
        "labels['row'] =  np.round(labels['y'] / GRID_SIZE)"
      ],
      "execution_count": null,
      "outputs": []
    },
    {
      "cell_type": "code",
      "metadata": {
        "id": "uWEwIv-mZ77v"
      },
      "source": [
        "labels['cols'] =  np.round(labels['x'] / GRID_SIZE)"
      ],
      "execution_count": null,
      "outputs": []
    },
    {
      "cell_type": "code",
      "metadata": {
        "id": "EmvP-sUjaL8Q"
      },
      "source": [
        "num_cols =  max(labels['row']) - min(labels['row'])"
      ],
      "execution_count": null,
      "outputs": []
    },
    {
      "cell_type": "code",
      "metadata": {
        "id": "iUehN8sAaAg5"
      },
      "source": [
        "labels['grid'] = (labels['row'] * num_cols + labels['cols'])"
      ],
      "execution_count": null,
      "outputs": []
    },
    {
      "cell_type": "code",
      "metadata": {
        "id": "wOorKsNeaZel"
      },
      "source": [
        "labels = labels.astype({'grid': 'int32'})\n",
        "for i in range(1,max(labels['grid'])+1):\n",
        "  labels[f'grid_{i}'] = labels['grid'] == i"
      ],
      "execution_count": null,
      "outputs": []
    },
    {
      "cell_type": "code",
      "metadata": {
        "id": "y6BqdBD5F4V5"
      },
      "source": [
        "grid_ids = set(labels['grid'])"
      ],
      "execution_count": null,
      "outputs": []
    },
    {
      "cell_type": "code",
      "metadata": {
        "id": "snOqGF-6GOrL"
      },
      "source": [
        "grid_positions = {}\n",
        "for grid_id in grid_ids:\n",
        "  size = len(labels[labels['grid'] == grid_id]['x'])\n",
        "  x = sum(labels[labels['grid'] == grid_id]['x'])/ size\n",
        "  y = sum(labels[labels['grid'] == grid_id]['y'])/ size\n",
        "  grid_positions[grid_id] = [x, y]"
      ],
      "execution_count": null,
      "outputs": []
    },
    {
      "cell_type": "code",
      "metadata": {
        "id": "isAwWihQHBhe"
      },
      "source": [
        "grid_positions"
      ],
      "execution_count": null,
      "outputs": []
    },
    {
      "cell_type": "markdown",
      "metadata": {
        "id": "IAzW0dbaxijZ"
      },
      "source": [
        "## Deep learning model for gridded output positions"
      ]
    },
    {
      "cell_type": "code",
      "metadata": {
        "id": "wgaQbD4GgdEj"
      },
      "source": [
        "def dnn_clf(dim):\n",
        "  # create model\n",
        "  model = keras.Sequential()\n",
        "  model.add(keras.layers.Dense(100, input_dim=dim, kernel_initializer='normal', activation='tanh'))\n",
        "  model.add(keras.layers.Dense(100, input_dim=dim, kernel_initializer='normal', activation='tanh'))\n",
        "  model.add(keras.layers.Dense(max(labels['grid']), kernel_initializer='normal', activation='softmax'))\n",
        "  model.add(keras.layers.Dropout(.2))\n",
        "  # Compile model\n",
        "  model.compile( loss = 'categorical_crossentropy', metrics='accuracy',optimizer='adam')\n",
        "  return model"
      ],
      "execution_count": null,
      "outputs": []
    },
    {
      "cell_type": "code",
      "metadata": {
        "id": "5zcWfpstiS_P"
      },
      "source": [
        "dnn = dnn_clf(cols)"
      ],
      "execution_count": null,
      "outputs": []
    },
    {
      "cell_type": "code",
      "metadata": {
        "id": "ngo5gz9eiXen"
      },
      "source": [
        "dnn.summary()"
      ],
      "execution_count": null,
      "outputs": []
    },
    {
      "cell_type": "code",
      "metadata": {
        "id": "uzYeyLsjgv0Q"
      },
      "source": [
        "X_train, X_test, y_train, y_test = train_test_split(features, labels, test_size=0.4, random_state=42, shuffle=True)"
      ],
      "execution_count": null,
      "outputs": []
    },
    {
      "cell_type": "code",
      "metadata": {
        "id": "cyGahrR4K1Ta"
      },
      "source": [
        "y_train_positions = y_train[['x', 'y']]\n",
        "y_test_positions = y_test[['x', 'y']]"
      ],
      "execution_count": null,
      "outputs": []
    },
    {
      "cell_type": "code",
      "metadata": {
        "id": "CzTOep0aLA_Y"
      },
      "source": [
        "y_train.drop(['x','y','grid', 'row', 'cols'], inplace=True, axis=1)"
      ],
      "execution_count": null,
      "outputs": []
    },
    {
      "cell_type": "code",
      "metadata": {
        "id": "cVlN1s10LYXG"
      },
      "source": [
        "y_test.drop(['x','y','grid', 'row', 'cols'], inplace=True, axis=1)"
      ],
      "execution_count": null,
      "outputs": []
    },
    {
      "cell_type": "code",
      "metadata": {
        "id": "JkKDCnj1g4ZU"
      },
      "source": [
        "history = dnn.fit(\n",
        "    X_train, y_train,\n",
        "    validation_split=0.3,\n",
        "    verbose=2, epochs=100\n",
        "    )"
      ],
      "execution_count": null,
      "outputs": []
    },
    {
      "cell_type": "code",
      "metadata": {
        "id": "ZYH7PgHnhLee"
      },
      "source": [
        "plot_loss(history)"
      ],
      "execution_count": null,
      "outputs": []
    },
    {
      "cell_type": "code",
      "metadata": {
        "id": "aTepeELyhoM7"
      },
      "source": [
        "test_results = dnn.evaluate(\n",
        "    X_test,\n",
        "    y_test, verbose=0)"
      ],
      "execution_count": null,
      "outputs": []
    },
    {
      "cell_type": "code",
      "metadata": {
        "id": "izxbmPMfiFSt"
      },
      "source": [
        "test_results"
      ],
      "execution_count": null,
      "outputs": []
    },
    {
      "cell_type": "code",
      "metadata": {
        "id": "8D0K79vFHjXC"
      },
      "source": [
        "predictions = dnn.predict(X_test)"
      ],
      "execution_count": null,
      "outputs": []
    },
    {
      "cell_type": "code",
      "metadata": {
        "id": "Ort1iKz7HpVu"
      },
      "source": [
        "predicted_grid_label = []\n",
        "for prediction in predictions:\n",
        "  predicted_grid_label.append(np.argmax(prediction));"
      ],
      "execution_count": null,
      "outputs": []
    },
    {
      "cell_type": "code",
      "metadata": {
        "id": "IWmRoiGGIAKu"
      },
      "source": [
        "predicted_positions_x = []\n",
        "predicted_positions_y = []\n",
        "for p_g in predicted_grid_label:\n",
        "  if (p_g not in grid_positions):\n",
        "    p_g = p_g-1\n",
        "    if (p_g not in grid_positions):\n",
        "      p_g = p_g+2\n",
        "  predicted_positions_x.append(grid_positions[p_g][0])\n",
        "  predicted_positions_y.append(grid_positions[p_g][1])"
      ],
      "execution_count": null,
      "outputs": []
    },
    {
      "cell_type": "code",
      "metadata": {
        "id": "cqFq_ixZIr-P"
      },
      "source": [
        "predicted_positons = pd.DataFrame()\n",
        "predicted_positons['x'] = predicted_positions_x;\n",
        "predicted_positons['y'] = predicted_positions_y;"
      ],
      "execution_count": null,
      "outputs": []
    },
    {
      "cell_type": "code",
      "metadata": {
        "colab": {
          "base_uri": "https://localhost:8080/"
        },
        "id": "9Rdfcmy1JoP2",
        "outputId": "a249a1c6-5d10-4745-bba7-17eb69eabb6d"
      },
      "source": [
        "from sklearn.metrics import mean_absolute_error\n",
        "mean_absolute_error(y_test_positions, predicted_positons)"
      ],
      "execution_count": null,
      "outputs": [
        {
          "output_type": "execute_result",
          "data": {
            "text/plain": [
              "2.7090949881133675"
            ]
          },
          "metadata": {
            "tags": []
          },
          "execution_count": 132
        }
      ]
    },
    {
      "cell_type": "code",
      "metadata": {
        "id": "ydNfMacMxd-J"
      },
      "source": [
        ""
      ],
      "execution_count": null,
      "outputs": []
    },
    {
      "cell_type": "markdown",
      "metadata": {
        "id": "zR0BnG8YQTHE"
      },
      "source": [
        "## Effect of using one AP\n",
        "* normal model \n",
        "* model trained on Maximum AP\n",
        "* RNN"
      ]
    },
    {
      "cell_type": "code",
      "metadata": {
        "id": "iPWpB6H11ijq"
      },
      "source": [
        "X_test_max_AP = leave_only_max_reading(X_test)"
      ],
      "execution_count": null,
      "outputs": []
    },
    {
      "cell_type": "markdown",
      "metadata": {
        "id": "Sh22O_zPo1Z0"
      },
      "source": [
        "### Model training (complete data vs one AP prediction):"
      ]
    },
    {
      "cell_type": "code",
      "metadata": {
        "id": "VM_96jG_o1Z6"
      },
      "source": [
        "dnn_one_ap_comp_train_data = baseline_model(cols)"
      ],
      "execution_count": null,
      "outputs": []
    },
    {
      "cell_type": "code",
      "metadata": {
        "id": "vS4i1IMQo1Z7"
      },
      "source": [
        "dnn_one_ap_comp_train_data.summary()"
      ],
      "execution_count": null,
      "outputs": []
    },
    {
      "cell_type": "code",
      "metadata": {
        "id": "5HMAnWIpo1Z_"
      },
      "source": [
        "history = dnn_one_ap_comp_train_data.fit(\n",
        "    X_train, y_train,\n",
        "    validation_split=0.2,\n",
        "    verbose=2, epochs=100,\n",
        "    )"
      ],
      "execution_count": null,
      "outputs": []
    },
    {
      "cell_type": "code",
      "metadata": {
        "id": "H9amPJ3Lo1aB"
      },
      "source": [
        "plot_loss(history)"
      ],
      "execution_count": null,
      "outputs": []
    },
    {
      "cell_type": "code",
      "metadata": {
        "id": "beC95pUyo1aC"
      },
      "source": [
        "test_results = dnn_one_ap_comp_train_data.evaluate(\n",
        "    X_test_max_AP,\n",
        "    y_test, verbose=0)"
      ],
      "execution_count": null,
      "outputs": []
    },
    {
      "cell_type": "code",
      "metadata": {
        "id": "ygorZVyRo1aD"
      },
      "source": [
        "test_results"
      ],
      "execution_count": null,
      "outputs": []
    },
    {
      "cell_type": "markdown",
      "metadata": {
        "id": "3qN23xgPwFnR"
      },
      "source": [
        "_____________________________________"
      ]
    },
    {
      "cell_type": "code",
      "metadata": {
        "id": "uKat2NvTNgZU"
      },
      "source": [
        "dnn_1ap_test_1ap_train = baseline_model(cols)"
      ],
      "execution_count": null,
      "outputs": []
    },
    {
      "cell_type": "code",
      "metadata": {
        "id": "f2_p6-NdNgZW"
      },
      "source": [
        "dnn_1ap_test_1ap_train.summary()"
      ],
      "execution_count": null,
      "outputs": []
    },
    {
      "cell_type": "code",
      "metadata": {
        "id": "2cUL2o4LNgZY"
      },
      "source": [
        "history = dnn_1ap_test_1ap_train.fit(\n",
        "    np.concatenate((X_train, leave_only_max_reading(X_train))),\n",
        "    np.concatenate ((y_train, y_train)),\n",
        "    validation_split=0.2,\n",
        "    verbose=2, epochs=100,\n",
        "    )"
      ],
      "execution_count": null,
      "outputs": []
    },
    {
      "cell_type": "code",
      "metadata": {
        "id": "LXnT3Z9cNgZx"
      },
      "source": [
        "plot_loss(history)"
      ],
      "execution_count": null,
      "outputs": []
    },
    {
      "cell_type": "code",
      "metadata": {
        "id": "reU_cmyXNgZy"
      },
      "source": [
        "test_results = dnn_1ap_test_1ap_train.evaluate(\n",
        "    X_test_max_AP,\n",
        "    y_test, verbose=0)"
      ],
      "execution_count": null,
      "outputs": []
    },
    {
      "cell_type": "code",
      "metadata": {
        "colab": {
          "base_uri": "https://localhost:8080/"
        },
        "id": "aD3M2WNsNgZy",
        "outputId": "01815a0d-5206-4ded-e798-c35b8b45f146"
      },
      "source": [
        "test_results"
      ],
      "execution_count": null,
      "outputs": [
        {
          "output_type": "execute_result",
          "data": {
            "text/plain": [
              "[425.2216491699219, 11.696505546569824]"
            ]
          },
          "metadata": {
            "tags": []
          },
          "execution_count": 138
        }
      ]
    },
    {
      "cell_type": "code",
      "metadata": {
        "colab": {
          "base_uri": "https://localhost:8080/",
          "height": 444
        },
        "id": "WsCDBJwRNgZz",
        "outputId": "8955a6c8-01f2-4629-f66e-52f652a233df"
      },
      "source": [
        "draw_cdf([[ np.array(y_test), np.array(dnn_1ap_test_1ap_train.predict(X_test_max_AP), dtype=int) , 'trained on augmented data'],\n",
        "          [ np.array(y_test), np.array(dnn_one_ap_comp_train_data.predict(X_test_max_AP), dtype=int) , 'trained on full data']], 'effect of using only max AP', 300)"
      ],
      "execution_count": null,
      "outputs": [
        {
          "output_type": "display_data",
          "data": {
            "image/png": "[encoded data removed]",
            "text/plain": [
              "<Figure size 640x480 with 1 Axes>"
            ]
          },
          "metadata": {
            "tags": [],
            "needs_background": "light"
          }
        }
      ]
    },
    {
      "cell_type": "markdown",
      "metadata": {
        "id": "aKkrhc7OO3t3"
      },
      "source": [
        "### Models trained on trace generator data"
      ]
    },
    {
      "cell_type": "markdown",
      "metadata": {
        "id": "rv3k4DfrwTe-"
      },
      "source": [
        "#### Trace Generator"
      ]
    },
    {
      "cell_type": "code",
      "metadata": {
        "id": "MalGAA3ZNgZ0"
      },
      "source": [
        "def generate_random_walk(finger_print):\n",
        "\n",
        "  start_index = np.random.randint(0,len(finger_print)) \n",
        "  start = finger_print.iloc[start_index]\n",
        "\n",
        "  walking_seq = []\n",
        "  current = start.copy()\n",
        "  for i in range(500):\n",
        "    nxt_pos_x = current['x'] + (-1)**(np.round(np.random.rand())) + STEP_SIZE * np.round(np.random.rand())\n",
        "    nxt_pos_y = current['y'] + (-1)**(np.round(np.random.rand())) + STEP_SIZE * np.round(np.random.rand())\n",
        "\n",
        "    if (nxt_pos_x >=  min_x and nxt_pos_x <= max_x and \n",
        "        nxt_pos_y >=  min_y and nxt_pos_y <= max_y):\n",
        "      \n",
        "      walking_seq.append ([nxt_pos_x, nxt_pos_y])\n",
        "      current['x'] = nxt_pos_x\n",
        "      current['y'] = nxt_pos_y\n",
        "    else:\n",
        "      break\n",
        "\n",
        "  print (len(walking_seq))\n",
        "  return walking_seq"
      ],
      "execution_count": null,
      "outputs": []
    },
    {
      "cell_type": "code",
      "metadata": {
        "id": "pkjXR2B-NgZ0"
      },
      "source": [
        "def generate_seq_random_walks(ds, min_size=50, seq_size=10_000):\n",
        "  random_walks = []\n",
        "  while (len(random_walks) < 20_000):\n",
        "    single_walk = generate_random_walk(ds)\n",
        "    if (len(single_walk) > 50):\n",
        "      random_walks += single_walk\n",
        "  \n",
        "  rand_walk_x = np.array(random_walks)[:,0]\n",
        "  rand_walk_y = np.array(random_walks)[:,1]\n",
        "  \n",
        "  positions = pd.DataFrame()\n",
        "  positions['x'] = rand_walk_x\n",
        "  positions['y'] = rand_walk_y\n",
        "\n",
        "  return positions"
      ],
      "execution_count": null,
      "outputs": []
    },
    {
      "cell_type": "code",
      "metadata": {
        "id": "B0l6zaO4Nb7I"
      },
      "source": [
        "STEP_SIZE = 2\n",
        "\n",
        "max_y = np.percentile(y_train['y'], 95)\n",
        "max_x = np.percentile(y_train['x'], 95)\n",
        "\n",
        "min_y = np.percentile(y_train['y'], 5)\n",
        "min_x = np.percentile(y_train['x'], 5)\n",
        "\n",
        "print (min_y, max_y)\n",
        "print (min_x, max_x)"
      ],
      "execution_count": null,
      "outputs": []
    },
    {
      "cell_type": "code",
      "metadata": {
        "id": "86cNxOwve7R0"
      },
      "source": [
        "positions = generate_seq_random_walks(y_train)"
      ],
      "execution_count": null,
      "outputs": []
    },
    {
      "cell_type": "code",
      "metadata": {
        "colab": {
          "base_uri": "https://localhost:8080/",
          "height": 513
        },
        "id": "bic4egDse-bY",
        "outputId": "f3552801-e986-41ce-94ec-7253d9df40e5"
      },
      "source": [
        "plt.figure(figsize=(8, 6), dpi=100)\n",
        "plt.scatter(y_test['x'], y_test['y'], color= 'r') \n",
        "plt.scatter(y_train['x'], y_train['y'], color= 'g') \n",
        "plt.scatter(positions['x'], positions['y'], color= 'b') \n",
        "plt.show()"
      ],
      "execution_count": null,
      "outputs": [
        {
          "output_type": "display_data",
          "data": {
            "image/png": "[encoded data removed]",
            "text/plain": [
              "<Figure size 800x600 with 1 Axes>"
            ]
          },
          "metadata": {
            "tags": [],
            "needs_background": "light"
          }
        }
      ]
    },
    {
      "cell_type": "code",
      "metadata": {
        "id": "-j6YUZQDfDze"
      },
      "source": [
        "def generate_rss(walk, X,y):\n",
        "  knn = KNeighborsRegressor(n_neighbors=1)\n",
        "  knn.fit(y,X ) # here i am trying to get the rss reading from the position\n",
        "  rss = knn.predict(walk)\n",
        "  rss_max_ap = leave_only_max_reading(rss)\n",
        "  return rss_max_ap"
      ],
      "execution_count": null,
      "outputs": []
    },
    {
      "cell_type": "code",
      "metadata": {
        "colab": {
          "base_uri": "https://localhost:8080/"
        },
        "id": "bdKOHY8ofD2n",
        "outputId": "0ebc065e-90e2-4806-cec4-ef8080382e78"
      },
      "source": [
        "rss = generate_rss(positions, X_train, y_train)\n",
        "rss"
      ],
      "execution_count": null,
      "outputs": [
        {
          "output_type": "execute_result",
          "data": {
            "text/plain": [
              "array([[0., 0., 0., ..., 0., 0., 0.],\n",
              "       [0., 0., 0., ..., 0., 0., 0.],\n",
              "       [0., 0., 0., ..., 0., 0., 0.],\n",
              "       ...,\n",
              "       [0., 0., 0., ..., 0., 0., 0.],\n",
              "       [0., 0., 0., ..., 0., 0., 0.],\n",
              "       [0., 0., 0., ..., 0., 0., 0.]])"
            ]
          },
          "metadata": {
            "tags": []
          },
          "execution_count": 35
        }
      ]
    },
    {
      "cell_type": "code",
      "metadata": {
        "id": "wi1mgCgdfVTN"
      },
      "source": [
        "positions = np.array(positions)\n",
        "X_train, X_test, y_train, y_test = train_test_split(rss, positions, test_size=0.8, random_state=42)"
      ],
      "execution_count": null,
      "outputs": []
    },
    {
      "cell_type": "code",
      "metadata": {
        "id": "kz7UxhUsfD55"
      },
      "source": [
        "X_train_r = np.reshape(X_train, (X_train.shape[0], 1, X_train.shape[1]))\n",
        "X_test_r = np.reshape(X_test, (X_test.shape[0], 1, X_test.shape[1]))\n",
        "\n",
        "y_train_r = np.reshape(y_train, (y_train.shape[0], 1, y_train.shape[1]))\n",
        "y_test_r = np.reshape(y_test, (y_test.shape[0], 1, y_test.shape[1]))"
      ],
      "execution_count": null,
      "outputs": []
    },
    {
      "cell_type": "markdown",
      "metadata": {
        "id": "334qSi3kO9Gs"
      },
      "source": [
        "#### RNN"
      ]
    },
    {
      "cell_type": "code",
      "metadata": {
        "id": "_nsUpgO5fyjq"
      },
      "source": [
        "model = Sequential()\n",
        "model.add(SimpleRNN(300, input_shape=X_train_r.shape[1:], activation='tanh', return_sequences=True))\n",
        "model.add(SimpleRNN(300, input_shape=X_train_r.shape[1:], activation='tanh', return_sequences=True))\n",
        "model.add(SimpleRNN(300, input_shape=X_train_r.shape[1:], activation='tanh'))\n",
        "model.add(Dense(300, activation='tanh'))\n",
        "model.add(Dense(150, activation='tanh'))\n",
        "model.add(Dense(2))\n",
        "\n",
        "model.compile( loss = 'mse', metrics='mean_absolute_error',\n",
        "                optimizer=tf.keras.optimizers.Adam(0.01))"
      ],
      "execution_count": null,
      "outputs": []
    },
    {
      "cell_type": "code",
      "metadata": {
        "colab": {
          "base_uri": "https://localhost:8080/"
        },
        "id": "UB29sit2gIpO",
        "outputId": "540af958-0b51-43a0-fce0-f0a52c153a76"
      },
      "source": [
        "model.summary()"
      ],
      "execution_count": null,
      "outputs": [
        {
          "output_type": "stream",
          "text": [
            "Model: \"sequential_2\"\n",
            "_________________________________________________________________\n",
            "Layer (type)                 Output Shape              Param #   \n",
            "=================================================================\n",
            "simple_rnn_3 (SimpleRNN)     (None, 1, 300)            631800    \n",
            "_________________________________________________________________\n",
            "simple_rnn_4 (SimpleRNN)     (None, 1, 300)            180300    \n",
            "_________________________________________________________________\n",
            "simple_rnn_5 (SimpleRNN)     (None, 300)               180300    \n",
            "_________________________________________________________________\n",
            "dense_3 (Dense)              (None, 300)               90300     \n",
            "_________________________________________________________________\n",
            "dense_4 (Dense)              (None, 150)               45150     \n",
            "_________________________________________________________________\n",
            "dense_5 (Dense)              (None, 2)                 302       \n",
            "=================================================================\n",
            "Total params: 1,128,152\n",
            "Trainable params: 1,128,152\n",
            "Non-trainable params: 0\n",
            "_________________________________________________________________\n"
          ],
          "name": "stdout"
        }
      ]
    },
    {
      "cell_type": "code",
      "metadata": {
        "id": "Ux87U-J6fwG8"
      },
      "source": [
        "history = model.fit(X_train_r,y_train_r,\n",
        "            validation_split=0.2,\n",
        "            verbose=1, epochs=50)"
      ],
      "execution_count": null,
      "outputs": []
    },
    {
      "cell_type": "code",
      "metadata": {
        "colab": {
          "base_uri": "https://localhost:8080/",
          "height": 279
        },
        "id": "Vg64lDFgfD9N",
        "outputId": "90bb351c-e70e-4bf5-a407-52008a58aca7"
      },
      "source": [
        "plot_loss(history)"
      ],
      "execution_count": null,
      "outputs": [
        {
          "output_type": "display_data",
          "data": {
            "image/png": "[encoded data removed]",
            "text/plain": [
              "<Figure size 432x288 with 1 Axes>"
            ]
          },
          "metadata": {
            "tags": [],
            "needs_background": "light"
          }
        }
      ]
    },
    {
      "cell_type": "code",
      "metadata": {
        "id": "66E8nJQshfTv"
      },
      "source": [
        "model.evaluate(X_test_r, y_test_r)"
      ],
      "execution_count": null,
      "outputs": []
    },
    {
      "cell_type": "code",
      "metadata": {
        "id": "3a8FgmCPhpeC"
      },
      "source": [
        "model.predict(X_test_r)"
      ],
      "execution_count": null,
      "outputs": []
    },
    {
      "cell_type": "code",
      "metadata": {
        "id": "1KpSlnqLiE9v"
      },
      "source": [
        "history = dnn.fit(\n",
        "    X_train, y_train,\n",
        "    validation_split=0.2,\n",
        "    verbose=2, epochs=200,\n",
        "    callbacks =[earlystopping]\n",
        "    )"
      ],
      "execution_count": null,
      "outputs": []
    },
    {
      "cell_type": "code",
      "metadata": {
        "colab": {
          "base_uri": "https://localhost:8080/",
          "height": 444
        },
        "id": "dlFdoX-_iWXh",
        "outputId": "49c98ba3-6094-4e57-df9b-419ab485fb0b"
      },
      "source": [
        "draw_cdf([[np.array(y_test_r), np.array(model.predict(X_test_r)), 'rnn'],\n",
        "          [np.array(y_test), np.array(dnn.predict(X_test)), 'dnn']]\n",
        "         , 'One AP synthetic Dataset', 150)"
      ],
      "execution_count": null,
      "outputs": [
        {
          "output_type": "display_data",
          "data": {
            "image/png": "[encoded data removed]",
            "text/plain": [
              "<Figure size 640x480 with 1 Axes>"
            ]
          },
          "metadata": {
            "tags": [],
            "needs_background": "light"
          }
        }
      ]
    },
    {
      "cell_type": "markdown",
      "metadata": {
        "id": "tn3mIlMHPnNY"
      },
      "source": [
        "## Evaluation"
      ]
    },
    {
      "cell_type": "markdown",
      "metadata": {
        "id": "5aEeX1_TQBJb"
      },
      "source": [
        "#### Different data augmnetation techniques\n",
        "* tower dropping\n",
        "* white noise\n",
        "* trace generator"
      ]
    },
    {
      "cell_type": "code",
      "metadata": {
        "id": "ID9VPqxrt5i7"
      },
      "source": [
        "dnn_original = baseline_model(cols)\n",
        "dnn_tower_dropping = baseline_model(cols)\n",
        "dnn_white_noise = baseline_model(cols)\n",
        "dnn_noise_and_dropped_tower = baseline_model(cols)\n",
        "dnn_trace_generator = baseline_model(cols)"
      ],
      "execution_count": null,
      "outputs": []
    },
    {
      "cell_type": "code",
      "metadata": {
        "id": "b1hutaYDuNja"
      },
      "source": [
        "history_original = dnn_original.fit(\n",
        "    X_train, y_train,\n",
        "    validation_split=0.2,\n",
        "    verbose=2, epochs=100,\n",
        "    )"
      ],
      "execution_count": null,
      "outputs": []
    },
    {
      "cell_type": "code",
      "metadata": {
        "id": "QoPmXrmzurI4"
      },
      "source": [
        "history_white_noise = dnn_white_noise.fit(\n",
        "    np.concatenate((X_train, X_train_with_white_noise)),\n",
        "    np.concatenate((y_train, y_train)),\n",
        "    validation_split=0.2,\n",
        "    verbose=2, epochs=100,\n",
        "    )"
      ],
      "execution_count": null,
      "outputs": []
    },
    {
      "cell_type": "code",
      "metadata": {
        "id": "k3wBI6sMu9-5"
      },
      "source": [
        "history_tower_dropping = dnn_tower_dropping.fit(\n",
        "    np.concatenate((X_train, X_train_with_tower_dropping)),\n",
        "    np.concatenate((y_train, y_train)),\n",
        "    validation_split=0.2,\n",
        "    verbose=2, epochs=100,\n",
        "    )"
      ],
      "execution_count": null,
      "outputs": []
    },
    {
      "cell_type": "code",
      "metadata": {
        "id": "wRr0oijPvtu7"
      },
      "source": [
        "history_noise_and_dropped_tower = dnn_noise_and_dropped_tower.fit(\n",
        "    np.concatenate((X_train, X_train_with_tower_dropping, X_train_with_white_noise)),\n",
        "    np.concatenate((y_train, y_train, y_train)),\n",
        "    validation_split=0.2,\n",
        "    verbose=2, epochs=100,\n",
        "    )"
      ],
      "execution_count": null,
      "outputs": []
    },
    {
      "cell_type": "code",
      "metadata": {
        "id": "ORi3kNdUx4wj"
      },
      "source": [
        "predictions_original = dnn_original.predict(X_test)\n",
        "predictions_white_noise = dnn_white_noise.predict(X_test)\n",
        "predictions_tower_dropping = dnn_tower_dropping.predict(X_test)\n",
        "predictions_noise_and_dropped_tower = dnn_noise_and_dropped_tower.predict(X_test)"
      ],
      "execution_count": null,
      "outputs": []
    },
    {
      "cell_type": "code",
      "metadata": {
        "colab": {
          "base_uri": "https://localhost:8080/",
          "height": 444
        },
        "id": "UAUKPv5_FWuV",
        "outputId": "599b36c8-b4fb-47af-e277-8d16bc714395"
      },
      "source": [
        "draw_cdf([[np.array(y_test), np.array(dnn_original.predict(apply_tower_dropping_noise(X_test,.3))), 'origial'],\n",
        "          [np.array(y_test), np.array(dnn_tower_dropping.predict(apply_tower_dropping_noise(X_test,.3))), 'tower dropped'],\n",
        "          [np.array(y_test), np.array(dnn_white_noise.predict(apply_tower_dropping_noise(X_test,.3))), 'white noise'],\n",
        "          [np.array(y_test), np.array(dnn_noise_and_dropped_tower.predict(apply_tower_dropping_noise(X_test,.3))), 'with both']],\n",
        "         'different data augmnetation techniques (tower dropped data)')"
      ],
      "execution_count": null,
      "outputs": [
        {
          "output_type": "display_data",
          "data": {
            "image/png": "[encoded data removed]",
            "text/plain": [
              "<Figure size 640x480 with 1 Axes>"
            ]
          },
          "metadata": {
            "tags": [],
            "needs_background": "light"
          }
        }
      ]
    },
    {
      "cell_type": "code",
      "metadata": {
        "colab": {
          "base_uri": "https://localhost:8080/",
          "height": 444
        },
        "id": "11kKbdUyJWZq",
        "outputId": "a867642f-55b4-410e-82d5-a9fe52f48431"
      },
      "source": [
        "draw_cdf([[np.array(y_test), np.array(predictions_original), 'origial'],\n",
        "          [np.array(y_test), np.array(predictions_tower_dropping), 'tower dropped'],\n",
        "          [np.array(y_test), np.array(predictions_white_noise), 'white noise'],\n",
        "          [np.array(y_test), np.array(predictions_noise_and_dropped_tower), 'with both']],\n",
        "         'different data augmnetation techniques')"
      ],
      "execution_count": null,
      "outputs": [
        {
          "output_type": "display_data",
          "data": {
            "image/png": "[encoded data removed]",
            "text/plain": [
              "<Figure size 640x480 with 1 Axes>"
            ]
          },
          "metadata": {
            "tags": [],
            "needs_background": "light"
          }
        }
      ]
    },
    {
      "cell_type": "markdown",
      "metadata": {
        "id": "374duW03QjH6"
      },
      "source": [
        "#### Perfomance compared to:\n",
        "* decision trees\n",
        "* random forests\n",
        "* KNN - 1 \n",
        "* KNN - 3\n",
        "* linear regression"
      ]
    },
    {
      "cell_type": "code",
      "metadata": {
        "id": "KBE63hxdvasi"
      },
      "source": [
        "from sklearn.neighbors import KNeighborsRegressor\n",
        "knn1 = KNeighborsRegressor(n_neighbors=1, n_jobs = 3 )\n",
        "\n",
        "knn1.fit(X_train, y_train)"
      ],
      "execution_count": null,
      "outputs": []
    },
    {
      "cell_type": "code",
      "metadata": {
        "id": "JA27-V7RxfGy"
      },
      "source": [
        "y_predict_knn1 = knn1.predict(X_test)"
      ],
      "execution_count": null,
      "outputs": []
    },
    {
      "cell_type": "markdown",
      "metadata": {
        "id": "ktWxU7c7wbd7"
      },
      "source": [
        "______________________________"
      ]
    },
    {
      "cell_type": "code",
      "metadata": {
        "id": "QjG3F96_rggV"
      },
      "source": [
        "knn3 = KNeighborsRegressor(n_neighbors=3, n_jobs = 3 )\n",
        "\n",
        "knn3.fit(X_train, y_train)"
      ],
      "execution_count": null,
      "outputs": []
    },
    {
      "cell_type": "code",
      "metadata": {
        "id": "40RUEnHkxhUf"
      },
      "source": [
        "y_predict_knn3 = knn3.predict(X_test)"
      ],
      "execution_count": null,
      "outputs": []
    },
    {
      "cell_type": "markdown",
      "metadata": {
        "id": "LkBRtjowwdCg"
      },
      "source": [
        "_____________________"
      ]
    },
    {
      "cell_type": "code",
      "metadata": {
        "id": "HTSp0Fptri6R"
      },
      "source": [
        "from sklearn.ensemble import RandomForestRegressor\n",
        "\n",
        "ran_x = RandomForestRegressor( random_state=0, n_jobs = 3 )\n",
        "ran_y = RandomForestRegressor( random_state=0, n_jobs = 3 )\n",
        "\n",
        "ran_x.fit(X_train, y_train['x'])\n",
        "ran_y.fit(X_train, y_train['y'])"
      ],
      "execution_count": null,
      "outputs": []
    },
    {
      "cell_type": "code",
      "metadata": {
        "id": "mDiU0m9JsThD"
      },
      "source": [
        "y_predict_ran_x = ran_x.predict(X_test)\n",
        "y_predict_ran_y = ran_y.predict(X_test)"
      ],
      "execution_count": null,
      "outputs": []
    },
    {
      "cell_type": "code",
      "metadata": {
        "id": "8eV6PMB2sWmr"
      },
      "source": [
        "random_forest_predictions = pd.DataFrame()\n",
        "random_forest_predictions['x'] = y_predict_ran_x\n",
        "random_forest_predictions['y'] = y_predict_ran_y"
      ],
      "execution_count": null,
      "outputs": []
    },
    {
      "cell_type": "markdown",
      "metadata": {
        "id": "NoIvnTvdwfmK"
      },
      "source": [
        "________"
      ]
    },
    {
      "cell_type": "code",
      "metadata": {
        "id": "7rWKKXK0r45u"
      },
      "source": [
        "from sklearn.linear_model import LinearRegression\n",
        "reg = LinearRegression()\n",
        "\n",
        "reg.fit(X_train, y_train)"
      ],
      "execution_count": null,
      "outputs": []
    },
    {
      "cell_type": "code",
      "metadata": {
        "id": "9glAwZNNxxtu"
      },
      "source": [
        "y_predict_lin = reg.predict(X_test)"
      ],
      "execution_count": null,
      "outputs": []
    },
    {
      "cell_type": "markdown",
      "metadata": {
        "id": "OjF3j7UzwhTY"
      },
      "source": [
        "_______________"
      ]
    },
    {
      "cell_type": "code",
      "metadata": {
        "colab": {
          "base_uri": "https://localhost:8080/",
          "height": 444
        },
        "id": "dpY1_5zOsLoA",
        "outputId": "13fc2ee9-8a10-4d0d-921c-a6d1068014c4"
      },
      "source": [
        "draw_cdf([\n",
        "          [np.array(y_test), np.array(predicted_dnn), 'dnn'],\n",
        "          [np.array(y_test), np.array(random_forest_predictions), 'random forest'],\n",
        "          [np.array(y_test), np.array(y_predict_knn3), 'knn3'],\n",
        "          [np.array(y_test), np.array(y_predict_knn1), 'knn1'],\n",
        "          ],\n",
        "         'performance of differnet models', 50)"
      ],
      "execution_count": null,
      "outputs": [
        {
          "output_type": "display_data",
          "data": {
            "image/png": "[encoded data removed]",
            "text/plain": [
              "<Figure size 640x480 with 1 Axes>"
            ]
          },
          "metadata": {
            "tags": [],
            "needs_background": "light"
          }
        }
      ]
    },
    {
      "cell_type": "markdown",
      "metadata": {
        "id": "d_cmICzxZV-T"
      },
      "source": [
        "________"
      ]
    },
    {
      "cell_type": "markdown",
      "metadata": {
        "id": "-9p4fR67ZWeC"
      },
      "source": [
        "## DEMO"
      ]
    },
    {
      "cell_type": "code",
      "metadata": {
        "id": "sxtWPoc5ZUyu"
      },
      "source": [
        ""
      ],
      "execution_count": null,
      "outputs": []
    }
  ]
}